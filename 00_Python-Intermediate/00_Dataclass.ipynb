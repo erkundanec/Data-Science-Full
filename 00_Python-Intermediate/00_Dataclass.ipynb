{
 "cells": [
  {
   "cell_type": "code",
   "execution_count": 1,
   "metadata": {},
   "outputs": [],
   "source": [
    "from dataclasses import dataclass"
   ]
  },
  {
   "cell_type": "code",
   "execution_count": 7,
   "metadata": {},
   "outputs": [
    {
     "name": "stdout",
     "output_type": "stream",
     "text": [
      "9.99 per month for one month.\n",
      "99.99 per year for one year.\n"
     ]
    }
   ],
   "source": [
    "@dataclass\n",
    "class Plan:\n",
    "    name: str\n",
    "    price: float\n",
    "    unit: str\n",
    "\n",
    "def get_plan_details(plan):\n",
    "    match plan:\n",
    "        case Plan(name=\"basic\", price=price, unit=\"month\"):\n",
    "            return f\"{price} per month for one month.\"\n",
    "        case Plan(name=\"premium\", price=price, unit=\"year\"):\n",
    "            return f\"{price} per year for one year.\"\n",
    "        case Plan():\n",
    "            return \"Invalid subscription plan\"\n",
    "        case _:\n",
    "            return \"Unknown subscription plan\"\n",
    "\n",
    "\n",
    "basic_plan = Plan(name = \"basic\" , price =9.99, unit=\"month\")\n",
    "text = get_plan_details(basic_plan)\n",
    "print(text)\n",
    "\n",
    "premium_plan = Plan(name = \"premium\", price =99.99, unit=\"year\")\n",
    "text = get_plan_details(premium_plan)\n",
    "print(text)\n",
    "\n",
    "\n"
   ]
  },
  {
   "cell_type": "markdown",
   "metadata": {},
   "source": [
    "In Python, a `dataclass` is a decorator that is used to automatically add special methods like `__init__()`, `__repr__()`, and `__eq__()` to user-defined classes, which are typically used to store data. The `dataclass` makes the code cleaner and more manageable by reducing the amount of boilerplate code required for classes that primarily serve as data containers.\n",
    "\n",
    "Here's a simple example to illustrate how a `dataclass` works:"
   ]
  },
  {
   "cell_type": "code",
   "execution_count": 8,
   "metadata": {},
   "outputs": [],
   "source": [
    "from dataclasses import dataclass\n",
    "\n",
    "@dataclass\n",
    "class InventoryItem:\n",
    "    \"\"\"Class for keeping track of an item in inventory.\"\"\"\n",
    "    name: str\n",
    "    unit_price: float\n",
    "    quantity_on_hand: int = 0\n",
    "\n",
    "    def total_cost(self) -> float:\n",
    "        return self.unit_price * self.quantity_on_hand"
   ]
  },
  {
   "cell_type": "markdown",
   "metadata": {},
   "source": [
    "In the example above, the `@dataclass` decorator automatically generates the `__init__()` and `__repr__()` methods for you. So, when you create an instance of `InventoryItem`, you don't need to manually define these methods unless you want to customize them further.\n",
    "\n",
    "The `dataclass` was introduced in Python 3.7 and is part of the standard library. It's a handy tool for when you need a class to hold data and want to avoid writing repetitive code¹."
   ]
  },
  {
   "cell_type": "markdown",
   "metadata": {},
   "source": []
  }
 ],
 "metadata": {
  "kernelspec": {
   "display_name": "drl",
   "language": "python",
   "name": "python3"
  },
  "language_info": {
   "codemirror_mode": {
    "name": "ipython",
    "version": 3
   },
   "file_extension": ".py",
   "mimetype": "text/x-python",
   "name": "python",
   "nbconvert_exporter": "python",
   "pygments_lexer": "ipython3",
   "version": "3.12.3"
  }
 },
 "nbformat": 4,
 "nbformat_minor": 2
}
