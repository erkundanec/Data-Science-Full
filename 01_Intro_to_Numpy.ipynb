{
 "cells": [
  {
   "cell_type": "markdown",
   "id": "aee11337",
   "metadata": {},
   "source": [
    "# 1. Introduction to Numpy\n",
    "Numpy is a Library in python that helps in dealing with multidimensional Arrays. The cool features of Numpy are\n",
    "* **Automatic Checking :** Numpy ndArrays automatically check the consistancy of data. For instance, it is not possible to have 1st row with 2 elements and 2nd row with 3 elements\n",
    "* **Contiguous Storage :** Unlike Python Lists, Numpy stores the data in `contiguous Memory Locations`, leading to lesser Space\n",
    "* **Faster Vector Arithmatics :** Because of contiguous storage, the operations are performed faster as compared to default Python Execution for Lists"
   ]
  },
  {
   "cell_type": "code",
   "execution_count": 3,
   "id": "ccbbb651",
   "metadata": {},
   "outputs": [],
   "source": [
    "import numpy as np         # This is the way to import any library in python"
   ]
  },
  {
   "cell_type": "markdown",
   "id": "7d795ac3",
   "metadata": {},
   "source": [
    "## 1.1 Initialization of 1D array in Python\n",
    "A numpy array comes with 2 important state variables. Just like Python, it automatically detects dtype (if not mentioned)\n",
    "* dtype\n",
    "* shape\n",
    "\n",
    "#### 1.1.1 Initialization from python List\n",
    "numpy.array( list **)**"
   ]
  },
  {
   "cell_type": "code",
   "execution_count": 5,
   "id": "860d0455",
   "metadata": {},
   "outputs": [
    {
     "name": "stdout",
     "output_type": "stream",
     "text": [
      "1D array in numpy is [1 4 9 3 2]\n",
      "\n",
      "dtype of the numpy array is int64\n",
      "\n",
      "shape of the numpy array is 5\n",
      "\n"
     ]
    }
   ],
   "source": [
    "# Initializing from Python List\n",
    "v = np.array([1,4,9,3,2])\n",
    "print ('1D array in numpy is %s\\n'%v)\n",
    "print ('dtype of the numpy array is %s\\n'%str(v.dtype))\n",
    "print ('shape of the numpy array is %s\\n'%v.shape)"
   ]
  },
  {
   "cell_type": "code",
   "execution_count": 6,
   "id": "2166829b",
   "metadata": {},
   "outputs": [
    {
     "data": {
      "text/plain": [
       "dtype('int64')"
      ]
     },
     "execution_count": 6,
     "metadata": {},
     "output_type": "execute_result"
    }
   ],
   "source": [
    "v.dtype"
   ]
  },
  {
   "cell_type": "markdown",
   "id": "57501a42",
   "metadata": {},
   "source": [
    "#### 1.1.2 Initialization via arange\n",
    "numpy.arange(**\\[**start, **\\]**stop, **\\[**step, **\\]** dtype=None)\n",
    "\n",
    "Return evenly spaced values within a given interval. Values are generated within the half-open interval\n",
    "\n",
    "[start, stop)\n",
    "\n",
    "(in other words, the interval including start but excluding stop). For integer arguments the function is equivalent to the Python built-in range function, but returns an ndarray rather than a list."
   ]
  },
  {
   "cell_type": "code",
   "execution_count": 7,
   "id": "a84e3108",
   "metadata": {},
   "outputs": [
    {
     "name": "stdout",
     "output_type": "stream",
     "text": [
      "Creating a numpy array via arange (stop=5) : [0 1 2 3 4]\n",
      "\n",
      "Creating a numpy array via arange (start=2,stop=5) : [2 3 4]\n",
      "\n",
      "Creating a numpy array via arange (start=0,stop=-10,step=-2) : [ 0 -2 -4 -6 -8]\n",
      "\n"
     ]
    }
   ],
   "source": [
    "v1 = np.arange(5)\n",
    "print ('Creating a numpy array via arange (stop=5) : %s\\n'%v1)\n",
    "v2 = np.arange(2,5)\n",
    "print ('Creating a numpy array via arange (start=2,stop=5) : %s\\n'%v2)\n",
    "v3 = np.arange(0,-10,-2)\n",
    "print ('Creating a numpy array via arange (start=0,stop=-10,step=-2) : %s\\n'%v3)"
   ]
  },
  {
   "cell_type": "code",
   "execution_count": 8,
   "id": "5750c451",
   "metadata": {},
   "outputs": [
    {
     "data": {
      "text/plain": [
       "array([ 0, -2, -4, -6, -8])"
      ]
     },
     "execution_count": 8,
     "metadata": {},
     "output_type": "execute_result"
    }
   ],
   "source": [
    "v3 = np.arange(start=0,stop=-10,step=-2)\n",
    "v3"
   ]
  },
  {
   "cell_type": "markdown",
   "id": "c34f32ea",
   "metadata": {},
   "source": [
    "## 1.2. Initialization of 2D array in Python\n",
    "When we talk about 2D array, it is important to note that Numpy stores Matrix is ***Row Major Format***. Row major format means that the the complete row will be stored first and then the next row will be stored and so on. You can choose to store a matrix in colum major format by mentioning ***order='F'*** on ndarray creation, which means ***Column Major Format***  or *Fortran Style Format*. \n",
    "\n",
    "<img src=\"img/numpy-arrays.png\" alt=\"Interpretation of row and column in Numpy\" style=\"width: 400px;\"/>"
   ]
  },
  {
   "cell_type": "markdown",
   "id": "89769c4a",
   "metadata": {},
   "source": []
  }
 ],
 "metadata": {
  "kernelspec": {
   "display_name": "Python 3 (ipykernel)",
   "language": "python",
   "name": "python3"
  },
  "language_info": {
   "codemirror_mode": {
    "name": "ipython",
    "version": 3
   },
   "file_extension": ".py",
   "mimetype": "text/x-python",
   "name": "python",
   "nbconvert_exporter": "python",
   "pygments_lexer": "ipython3",
   "version": "3.8.12"
  }
 },
 "nbformat": 4,
 "nbformat_minor": 5
}
